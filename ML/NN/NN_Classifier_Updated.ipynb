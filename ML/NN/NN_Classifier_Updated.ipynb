{
 "cells": [
  {
   "cell_type": "code",
   "execution_count": 16,
   "id": "d3d202a9",
   "metadata": {},
   "outputs": [],
   "source": [
    "import pandas as pd\n",
    "import numpy as np\n",
    "import matplotlib.pyplot as plt\n",
    "import seaborn as ns\n"
   ]
  },
  {
   "cell_type": "code",
   "execution_count": 17,
   "id": "65ce5917",
   "metadata": {},
   "outputs": [],
   "source": [
    "df=pd.read_csv(\"/Users/aryangalande/Downloads/Churn_Modelling.csv\")"
   ]
  },
  {
   "cell_type": "code",
   "execution_count": 18,
   "id": "4ae775a0",
   "metadata": {},
   "outputs": [
    {
     "data": {
      "text/html": [
       "<div>\n",
       "<style scoped>\n",
       "    .dataframe tbody tr th:only-of-type {\n",
       "        vertical-align: middle;\n",
       "    }\n",
       "\n",
       "    .dataframe tbody tr th {\n",
       "        vertical-align: top;\n",
       "    }\n",
       "\n",
       "    .dataframe thead th {\n",
       "        text-align: right;\n",
       "    }\n",
       "</style>\n",
       "<table border=\"1\" class=\"dataframe\">\n",
       "  <thead>\n",
       "    <tr style=\"text-align: right;\">\n",
       "      <th></th>\n",
       "      <th>RowNumber</th>\n",
       "      <th>CustomerId</th>\n",
       "      <th>Surname</th>\n",
       "      <th>CreditScore</th>\n",
       "      <th>Geography</th>\n",
       "      <th>Gender</th>\n",
       "      <th>Age</th>\n",
       "      <th>Tenure</th>\n",
       "      <th>Balance</th>\n",
       "      <th>NumOfProducts</th>\n",
       "      <th>HasCrCard</th>\n",
       "      <th>IsActiveMember</th>\n",
       "      <th>EstimatedSalary</th>\n",
       "      <th>Exited</th>\n",
       "    </tr>\n",
       "  </thead>\n",
       "  <tbody>\n",
       "    <tr>\n",
       "      <th>0</th>\n",
       "      <td>1</td>\n",
       "      <td>15634602</td>\n",
       "      <td>Hargrave</td>\n",
       "      <td>619</td>\n",
       "      <td>France</td>\n",
       "      <td>Female</td>\n",
       "      <td>42</td>\n",
       "      <td>2</td>\n",
       "      <td>0.00</td>\n",
       "      <td>1</td>\n",
       "      <td>1</td>\n",
       "      <td>1</td>\n",
       "      <td>101348.88</td>\n",
       "      <td>1</td>\n",
       "    </tr>\n",
       "    <tr>\n",
       "      <th>1</th>\n",
       "      <td>2</td>\n",
       "      <td>15647311</td>\n",
       "      <td>Hill</td>\n",
       "      <td>608</td>\n",
       "      <td>Spain</td>\n",
       "      <td>Female</td>\n",
       "      <td>41</td>\n",
       "      <td>1</td>\n",
       "      <td>83807.86</td>\n",
       "      <td>1</td>\n",
       "      <td>0</td>\n",
       "      <td>1</td>\n",
       "      <td>112542.58</td>\n",
       "      <td>0</td>\n",
       "    </tr>\n",
       "    <tr>\n",
       "      <th>2</th>\n",
       "      <td>3</td>\n",
       "      <td>15619304</td>\n",
       "      <td>Onio</td>\n",
       "      <td>502</td>\n",
       "      <td>France</td>\n",
       "      <td>Female</td>\n",
       "      <td>42</td>\n",
       "      <td>8</td>\n",
       "      <td>159660.80</td>\n",
       "      <td>3</td>\n",
       "      <td>1</td>\n",
       "      <td>0</td>\n",
       "      <td>113931.57</td>\n",
       "      <td>1</td>\n",
       "    </tr>\n",
       "    <tr>\n",
       "      <th>3</th>\n",
       "      <td>4</td>\n",
       "      <td>15701354</td>\n",
       "      <td>Boni</td>\n",
       "      <td>699</td>\n",
       "      <td>France</td>\n",
       "      <td>Female</td>\n",
       "      <td>39</td>\n",
       "      <td>1</td>\n",
       "      <td>0.00</td>\n",
       "      <td>2</td>\n",
       "      <td>0</td>\n",
       "      <td>0</td>\n",
       "      <td>93826.63</td>\n",
       "      <td>0</td>\n",
       "    </tr>\n",
       "    <tr>\n",
       "      <th>4</th>\n",
       "      <td>5</td>\n",
       "      <td>15737888</td>\n",
       "      <td>Mitchell</td>\n",
       "      <td>850</td>\n",
       "      <td>Spain</td>\n",
       "      <td>Female</td>\n",
       "      <td>43</td>\n",
       "      <td>2</td>\n",
       "      <td>125510.82</td>\n",
       "      <td>1</td>\n",
       "      <td>1</td>\n",
       "      <td>1</td>\n",
       "      <td>79084.10</td>\n",
       "      <td>0</td>\n",
       "    </tr>\n",
       "  </tbody>\n",
       "</table>\n",
       "</div>"
      ],
      "text/plain": [
       "   RowNumber  CustomerId   Surname  CreditScore Geography  Gender  Age  \\\n",
       "0          1    15634602  Hargrave          619    France  Female   42   \n",
       "1          2    15647311      Hill          608     Spain  Female   41   \n",
       "2          3    15619304      Onio          502    France  Female   42   \n",
       "3          4    15701354      Boni          699    France  Female   39   \n",
       "4          5    15737888  Mitchell          850     Spain  Female   43   \n",
       "\n",
       "   Tenure    Balance  NumOfProducts  HasCrCard  IsActiveMember  \\\n",
       "0       2       0.00              1          1               1   \n",
       "1       1   83807.86              1          0               1   \n",
       "2       8  159660.80              3          1               0   \n",
       "3       1       0.00              2          0               0   \n",
       "4       2  125510.82              1          1               1   \n",
       "\n",
       "   EstimatedSalary  Exited  \n",
       "0        101348.88       1  \n",
       "1        112542.58       0  \n",
       "2        113931.57       1  \n",
       "3         93826.63       0  \n",
       "4         79084.10       0  "
      ]
     },
     "execution_count": 18,
     "metadata": {},
     "output_type": "execute_result"
    }
   ],
   "source": [
    "df.head()"
   ]
  },
  {
   "cell_type": "code",
   "execution_count": 19,
   "id": "38dd9811",
   "metadata": {},
   "outputs": [],
   "source": [
    "df = df.drop(['RowNumber', 'CustomerId', 'Surname'], axis=1)\n"
   ]
  },
  {
   "cell_type": "code",
   "execution_count": 20,
   "id": "1816d5ea",
   "metadata": {},
   "outputs": [],
   "source": [
    "df = pd.get_dummies(df, columns=['Gender','Geography'])"
   ]
  },
  {
   "cell_type": "code",
   "execution_count": 21,
   "id": "f1fdf135",
   "metadata": {},
   "outputs": [
    {
     "data": {
      "text/plain": [
       "(10000, 14)"
      ]
     },
     "execution_count": 21,
     "metadata": {},
     "output_type": "execute_result"
    }
   ],
   "source": [
    "df.shape"
   ]
  },
  {
   "cell_type": "code",
   "execution_count": 22,
   "id": "8db72495",
   "metadata": {},
   "outputs": [
    {
     "data": {
      "text/plain": [
       "CreditScore            int64\n",
       "Age                    int64\n",
       "Tenure                 int64\n",
       "Balance              float64\n",
       "NumOfProducts          int64\n",
       "HasCrCard              int64\n",
       "IsActiveMember         int64\n",
       "EstimatedSalary      float64\n",
       "Exited                 int64\n",
       "Gender_Female           bool\n",
       "Gender_Male             bool\n",
       "Geography_France        bool\n",
       "Geography_Germany       bool\n",
       "Geography_Spain         bool\n",
       "dtype: object"
      ]
     },
     "execution_count": 22,
     "metadata": {},
     "output_type": "execute_result"
    }
   ],
   "source": [
    "df.dtypes"
   ]
  },
  {
   "cell_type": "code",
   "execution_count": 23,
   "id": "38d8c89e",
   "metadata": {},
   "outputs": [],
   "source": [
    "def min_max_normalize( name ):\n",
    "    global df\n",
    "    df[name] = df[name].astype( 'float32' )\n",
    "    df[ name ] = (df[ name ] - df[ name ].min()) / ( df[ name ].max() - df[ name ].min() )\n",
    "\n",
    "cols = [\"CreditScore\", \"Age\", \"Tenure\", \"Balance\", \"NumOfProducts\", \"HasCrCard\", \"EstimatedSalary\"]\n",
    "for col in cols:\n",
    "    min_max_normalize(col)"
   ]
  },
  {
   "cell_type": "code",
   "execution_count": 24,
   "id": "122e0199",
   "metadata": {},
   "outputs": [
    {
     "name": "stdout",
     "output_type": "stream",
     "text": [
      "(7000, 13)\n",
      "(7000,)\n",
      "(3000, 13)\n",
      "(3000,)\n"
     ]
    }
   ],
   "source": [
    "from sklearn.model_selection import train_test_split\n",
    "\n",
    "X = df.drop([\"Exited\"], axis=1).to_numpy().astype('float32')\n",
    "y = df[\"Exited\"].to_numpy()\n",
    "X_train, X_test, y_train, y_test = train_test_split(X, y, test_size=0.3, random_state=42)\n",
    "\n",
    "print(X_train.shape)\n",
    "print(y_train.shape)\n",
    "print(X_test.shape)\n",
    "print(y_test.shape)"
   ]
  },
  {
   "cell_type": "code",
   "execution_count": 25,
   "id": "14f64f7a",
   "metadata": {},
   "outputs": [],
   "source": [
    "from keras.models import Sequential\n",
    "from keras.layers import Dense"
   ]
  },
  {
   "cell_type": "code",
   "execution_count": 26,
   "id": "0ef5d40d",
   "metadata": {},
   "outputs": [
    {
     "name": "stdout",
     "output_type": "stream",
     "text": [
      "Epoch 1/50\n",
      "700/700 [==============================] - 0s 347us/step - loss: 0.5132 - accuracy: 0.7921\n",
      "Epoch 2/50\n",
      "700/700 [==============================] - 0s 326us/step - loss: 0.4728 - accuracy: 0.7939\n",
      "Epoch 3/50\n",
      "700/700 [==============================] - 0s 328us/step - loss: 0.4565 - accuracy: 0.7966\n",
      "Epoch 4/50\n",
      "700/700 [==============================] - 0s 323us/step - loss: 0.4448 - accuracy: 0.8067\n",
      "Epoch 5/50\n",
      "700/700 [==============================] - 0s 322us/step - loss: 0.4403 - accuracy: 0.8087\n",
      "Epoch 6/50\n",
      "700/700 [==============================] - 0s 324us/step - loss: 0.4364 - accuracy: 0.8096\n",
      "Epoch 7/50\n",
      "700/700 [==============================] - 0s 322us/step - loss: 0.4350 - accuracy: 0.8114\n",
      "Epoch 8/50\n",
      "700/700 [==============================] - 0s 321us/step - loss: 0.4327 - accuracy: 0.8104\n",
      "Epoch 9/50\n",
      "700/700 [==============================] - 0s 326us/step - loss: 0.4316 - accuracy: 0.8136\n",
      "Epoch 10/50\n",
      "700/700 [==============================] - 0s 408us/step - loss: 0.4310 - accuracy: 0.8114\n",
      "Epoch 11/50\n",
      "700/700 [==============================] - 0s 327us/step - loss: 0.4298 - accuracy: 0.8111\n",
      "Epoch 12/50\n",
      "700/700 [==============================] - 0s 324us/step - loss: 0.4285 - accuracy: 0.8140\n",
      "Epoch 13/50\n",
      "700/700 [==============================] - 0s 324us/step - loss: 0.4270 - accuracy: 0.8133\n",
      "Epoch 14/50\n",
      "700/700 [==============================] - 0s 324us/step - loss: 0.4265 - accuracy: 0.8141\n",
      "Epoch 15/50\n",
      "700/700 [==============================] - 0s 323us/step - loss: 0.4254 - accuracy: 0.8150\n",
      "Epoch 16/50\n",
      "700/700 [==============================] - 0s 322us/step - loss: 0.4249 - accuracy: 0.8174\n",
      "Epoch 17/50\n",
      "700/700 [==============================] - 0s 326us/step - loss: 0.4233 - accuracy: 0.8171\n",
      "Epoch 18/50\n",
      "700/700 [==============================] - 0s 323us/step - loss: 0.4224 - accuracy: 0.8170\n",
      "Epoch 19/50\n",
      "700/700 [==============================] - 0s 324us/step - loss: 0.4217 - accuracy: 0.8180\n",
      "Epoch 20/50\n",
      "700/700 [==============================] - 0s 326us/step - loss: 0.4207 - accuracy: 0.8213\n",
      "Epoch 21/50\n",
      "700/700 [==============================] - 0s 322us/step - loss: 0.4200 - accuracy: 0.8197\n",
      "Epoch 22/50\n",
      "700/700 [==============================] - 0s 327us/step - loss: 0.4188 - accuracy: 0.8209\n",
      "Epoch 23/50\n",
      "700/700 [==============================] - 0s 330us/step - loss: 0.4179 - accuracy: 0.8213\n",
      "Epoch 24/50\n",
      "700/700 [==============================] - 0s 323us/step - loss: 0.4174 - accuracy: 0.8203\n",
      "Epoch 25/50\n",
      "700/700 [==============================] - 0s 327us/step - loss: 0.4165 - accuracy: 0.8241\n",
      "Epoch 26/50\n",
      "700/700 [==============================] - 0s 322us/step - loss: 0.4169 - accuracy: 0.8246\n",
      "Epoch 27/50\n",
      "700/700 [==============================] - 0s 323us/step - loss: 0.4155 - accuracy: 0.8220\n",
      "Epoch 28/50\n",
      "700/700 [==============================] - 0s 324us/step - loss: 0.4155 - accuracy: 0.8260\n",
      "Epoch 29/50\n",
      "700/700 [==============================] - 0s 385us/step - loss: 0.4138 - accuracy: 0.8239\n",
      "Epoch 30/50\n",
      "700/700 [==============================] - 0s 322us/step - loss: 0.4140 - accuracy: 0.8244\n",
      "Epoch 31/50\n",
      "700/700 [==============================] - 0s 326us/step - loss: 0.4131 - accuracy: 0.8256\n",
      "Epoch 32/50\n",
      "700/700 [==============================] - 0s 332us/step - loss: 0.4124 - accuracy: 0.8270\n",
      "Epoch 33/50\n",
      "700/700 [==============================] - 0s 324us/step - loss: 0.4134 - accuracy: 0.8273\n",
      "Epoch 34/50\n",
      "700/700 [==============================] - 0s 331us/step - loss: 0.4126 - accuracy: 0.8260\n",
      "Epoch 35/50\n",
      "700/700 [==============================] - 0s 324us/step - loss: 0.4123 - accuracy: 0.8281\n",
      "Epoch 36/50\n",
      "700/700 [==============================] - 0s 359us/step - loss: 0.4124 - accuracy: 0.8284\n",
      "Epoch 37/50\n",
      "700/700 [==============================] - 0s 330us/step - loss: 0.4114 - accuracy: 0.8266\n",
      "Epoch 38/50\n",
      "700/700 [==============================] - 0s 326us/step - loss: 0.4104 - accuracy: 0.8290\n",
      "Epoch 39/50\n",
      "700/700 [==============================] - 0s 330us/step - loss: 0.4108 - accuracy: 0.8273\n",
      "Epoch 40/50\n",
      "700/700 [==============================] - 0s 322us/step - loss: 0.4100 - accuracy: 0.8287\n",
      "Epoch 41/50\n",
      "700/700 [==============================] - 0s 322us/step - loss: 0.4088 - accuracy: 0.8270\n",
      "Epoch 42/50\n",
      "700/700 [==============================] - 0s 325us/step - loss: 0.4089 - accuracy: 0.8291\n",
      "Epoch 43/50\n",
      "700/700 [==============================] - 0s 326us/step - loss: 0.4082 - accuracy: 0.8286\n",
      "Epoch 44/50\n",
      "700/700 [==============================] - 0s 323us/step - loss: 0.4081 - accuracy: 0.8294\n",
      "Epoch 45/50\n",
      "700/700 [==============================] - 0s 328us/step - loss: 0.4072 - accuracy: 0.8317\n",
      "Epoch 46/50\n",
      "700/700 [==============================] - 0s 330us/step - loss: 0.4078 - accuracy: 0.8279\n",
      "Epoch 47/50\n",
      "700/700 [==============================] - 0s 327us/step - loss: 0.4070 - accuracy: 0.8279\n",
      "Epoch 48/50\n",
      "700/700 [==============================] - 0s 326us/step - loss: 0.4071 - accuracy: 0.8289\n",
      "Epoch 49/50\n",
      "700/700 [==============================] - 0s 344us/step - loss: 0.4067 - accuracy: 0.8316\n",
      "Epoch 50/50\n",
      "700/700 [==============================] - 0s 336us/step - loss: 0.4057 - accuracy: 0.8273\n"
     ]
    },
    {
     "data": {
      "text/plain": [
       "<keras.src.callbacks.History at 0x15bee43d0>"
      ]
     },
     "execution_count": 26,
     "metadata": {},
     "output_type": "execute_result"
    }
   ],
   "source": [
    "model = Sequential()\n",
    "model.add(Dense(activation='relu', units=32))\n",
    "model.add(Dropout(0.5))\n",
    "model.add(Dense(activation='relu', units=8))\n",
    "model.add(Dense(activation='sigmoid', units=1))\n",
    "model.compile(optimizer='adam', loss='binary_crossentropy', metrics=['accuracy'])\n",
    "model.fit(X_train, y_train, batch_size=10, epochs=50)"
   ]
  },
  {
   "cell_type": "code",
   "execution_count": 27,
   "id": "bd08c24e",
   "metadata": {},
   "outputs": [
    {
     "name": "stdout",
     "output_type": "stream",
     "text": [
      "94/94 [==============================] - 0s 279us/step\n"
     ]
    }
   ],
   "source": [
    "y_pred = model.predict(X_test)\n",
    "y_pred = (y_pred > 0.5)"
   ]
  },
  {
   "cell_type": "code",
   "execution_count": 28,
   "id": "59f68b71",
   "metadata": {},
   "outputs": [
    {
     "name": "stdout",
     "output_type": "stream",
     "text": [
      "0.837\n"
     ]
    }
   ],
   "source": [
    "from sklearn.metrics import accuracy_score\n",
    "print(accuracy_score(y_test, y_pred))"
   ]
  },
  {
   "cell_type": "code",
   "execution_count": 29,
   "id": "c8491024",
   "metadata": {},
   "outputs": [
    {
     "name": "stdout",
     "output_type": "stream",
     "text": [
      "              precision    recall  f1-score   support\n",
      "\n",
      "           0       0.86      0.96      0.90      2416\n",
      "           1       0.65      0.35      0.45       584\n",
      "\n",
      "    accuracy                           0.84      3000\n",
      "   macro avg       0.76      0.65      0.68      3000\n",
      "weighted avg       0.82      0.84      0.82      3000\n",
      "\n"
     ]
    }
   ],
   "source": [
    "\n",
    "from sklearn.metrics import classification_report\n",
    "\n",
    "print(classification_report(y_test, y_pred))"
   ]
  },
  {
   "cell_type": "code",
   "execution_count": null,
   "id": "07d854b5",
   "metadata": {},
   "outputs": [],
   "source": [
    "from sklearn.metrics import confusion_matrix"
   ]
  },
  {
   "cell_type": "code",
   "execution_count": null,
   "id": "2247c59b",
   "metadata": {},
   "outputs": [],
   "source": [
    "# Print confusion matrix\n",
    "conf_matrix = confusion_matrix(y_test, y_pred)\n",
    "\n",
    "print(\"Confusion Matrix:\\n\", conf_matrix)"
   ]
  }
 ],
 "metadata": {
  "kernelspec": {
   "display_name": "Python 3 (ipykernel)",
   "language": "python",
   "name": "python3"
  },
  "language_info": {
   "codemirror_mode": {
    "name": "ipython",
    "version": 3
   },
   "file_extension": ".py",
   "mimetype": "text/x-python",
   "name": "python",
   "nbconvert_exporter": "python",
   "pygments_lexer": "ipython3",
   "version": "3.10.4"
  }
 },
 "nbformat": 4,
 "nbformat_minor": 5
}
